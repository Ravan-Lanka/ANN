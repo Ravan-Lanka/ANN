{
 "cells": [
  {
   "cell_type": "code",
   "execution_count": 2,
   "metadata": {},
   "outputs": [],
   "source": [
    "import numpy as np"
   ]
  },
  {
   "cell_type": "code",
   "execution_count": 3,
   "metadata": {},
   "outputs": [
    {
     "name": "stdout",
     "output_type": "stream",
     "text": [
      "[1 1] 1\n"
     ]
    },
    {
     "data": {
      "text/plain": [
       "0"
      ]
     },
     "execution_count": 3,
     "metadata": {},
     "output_type": "execute_result"
    }
   ],
   "source": [
    "#execute OR gate using Hebbian learning\n",
    "#Model hebbian learning rule using python\n",
    "from random import choice\n",
    "\n",
    "activation = lambda x: 0 if x<0 else 1\n",
    "\n",
    "data = [\n",
    "    (np.array([1,1]),1),\n",
    "    (np.array([1,0]),0),\n",
    "    (np.array([0,1]),0),\n",
    "    (np.array([0,0]),0)\n",
    "]\n",
    "x,y = choice(data)\n",
    "print(x,y)\n",
    "w = np.array([1,0.5])\n",
    "val = np.dot(x,w)\n",
    "pred = activation(val)\n",
    "pred\n",
    "\n",
    "error =  y - pred\n",
    "error"
   ]
  },
  {
   "cell_type": "code",
   "execution_count": null,
   "metadata": {},
   "outputs": [],
   "source": []
  }
 ],
 "metadata": {
  "kernelspec": {
   "display_name": "Python 3",
   "language": "python",
   "name": "python3"
  },
  "language_info": {
   "codemirror_mode": {
    "name": "ipython",
    "version": 3
   },
   "file_extension": ".py",
   "mimetype": "text/x-python",
   "name": "python",
   "nbconvert_exporter": "python",
   "pygments_lexer": "ipython3",
   "version": "3.7.3"
  }
 },
 "nbformat": 4,
 "nbformat_minor": 4
}
