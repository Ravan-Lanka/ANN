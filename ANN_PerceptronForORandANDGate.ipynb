{
 "cells": [
  {
   "cell_type": "markdown",
   "metadata": {},
   "source": [
    "# Perceptron for AND \n"
   ]
  },
  {
   "cell_type": "code",
   "execution_count": 1,
   "metadata": {},
   "outputs": [
    {
     "name": "stdout",
     "output_type": "stream",
     "text": [
      "[-3.  2.  1.]\n"
     ]
    }
   ],
   "source": [
    "import numpy as np\n",
    "#First Code\n",
    "class Perceptron(object):\n",
    "    \"\"\"Implements a perceptron network\"\"\"\n",
    "    def __init__(self, input_size):\n",
    "        self.W = np.zeros(input_size+1)\n",
    "        \n",
    "#Second Code        \n",
    "    def activation_fn(self, x):\n",
    "        return 1 if x >= 0 else 0\n",
    "\n",
    "# Third Code\n",
    "    def predict(self, x):\n",
    "        x = np.insert(x, 0, 1)\n",
    "        z = self.W.T.dot(x)\n",
    "        a = self.activation_fn(z)\n",
    "        return a\n",
    "\n",
    "\n",
    "#fourth code\n",
    "    def __init__(self, input_size, lr=1, epochs=10):\n",
    "        self.W = np.zeros(input_size+1)\n",
    "    # add one for bias\n",
    "        self.epochs = epochs\n",
    "        self.lr = lr\n",
    "    \n",
    "# fifth code\n",
    "    def fit(self, X, d):\n",
    "        for _ in range(self.epochs):\n",
    "            for i in range(d.shape[0]):\n",
    "                y = self.predict(X[i])\n",
    "                e = d[i] - y\n",
    "                self.W = self.W + self.lr * e * np.insert(X[i], 0, 1)\n",
    "if __name__ == '__main__':\n",
    "    X = np.array([\n",
    "        [0, 0],\n",
    "        [0, 1],\n",
    "        [1, 0],\n",
    "        [1, 1]\n",
    "    ])\n",
    "    d = np.array([0, 0, 0, 1])\n",
    "    perceptron = Perceptron(input_size=2)\n",
    "    perceptron.fit(X, d)\n",
    "    print(perceptron.W)"
   ]
  },
  {
   "cell_type": "markdown",
   "metadata": {},
   "source": [
    "# Perceptron for OR"
   ]
  },
  {
   "cell_type": "code",
   "execution_count": 2,
   "metadata": {},
   "outputs": [
    {
     "name": "stdout",
     "output_type": "stream",
     "text": [
      "[-1.  1.  1.]\n"
     ]
    }
   ],
   "source": [
    "import numpy as np\n",
    "#First Code\n",
    "class Perceptron(object):\n",
    "    \"\"\"Implements a perceptron network\"\"\"\n",
    "    def __init__(self, input_size):\n",
    "        self.W = np.zeros(input_size+1)\n",
    "        \n",
    "#Second Code        \n",
    "    def activation_fn(self, x):\n",
    "        return 1 if x >= 0 else 0\n",
    "\n",
    "# Third Code\n",
    "    def predict(self, x):\n",
    "        x = np.insert(x, 0, 1)\n",
    "        z = self.W.T.dot(x)\n",
    "        a = self.activation_fn(z)\n",
    "        return a\n",
    "\n",
    "\n",
    "#fourth code\n",
    "    def __init__(self, input_size, lr=1, epochs=10):\n",
    "        self.W = np.zeros(input_size+1)\n",
    "    # add one for bias\n",
    "        self.epochs = epochs\n",
    "        self.lr = lr\n",
    "    \n",
    "# fifth code\n",
    "    def fit(self, X, d):\n",
    "        for _ in range(self.epochs):\n",
    "            for i in range(d.shape[0]):\n",
    "                y = self.predict(X[i])\n",
    "                e = d[i] - y\n",
    "                self.W = self.W + self.lr * e * np.insert(X[i], 0, 1)\n",
    "if __name__ == '__main__':\n",
    "    X = np.array([\n",
    "        [0, 0],\n",
    "        [0, 1],\n",
    "        [1, 0],\n",
    "        [1, 1]\n",
    "    ])\n",
    "    d = np.array([0, 1, 1, 1])\n",
    "    perceptron = Perceptron(input_size=2)\n",
    "    perceptron.fit(X, d)\n",
    "    print(perceptron.W)"
   ]
  },
  {
   "cell_type": "code",
   "execution_count": null,
   "metadata": {},
   "outputs": [],
   "source": []
  }
 ],
 "metadata": {
  "kernelspec": {
   "display_name": "Python 3",
   "language": "python",
   "name": "python3"
  },
  "language_info": {
   "codemirror_mode": {
    "name": "ipython",
    "version": 3
   },
   "file_extension": ".py",
   "mimetype": "text/x-python",
   "name": "python",
   "nbconvert_exporter": "python",
   "pygments_lexer": "ipython3",
   "version": "3.7.3"
  }
 },
 "nbformat": 4,
 "nbformat_minor": 4
}
